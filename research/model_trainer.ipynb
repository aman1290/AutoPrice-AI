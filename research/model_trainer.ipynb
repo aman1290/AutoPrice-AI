{
 "cells": [
  {
   "cell_type": "code",
   "execution_count": 5,
   "id": "afa6fe78",
   "metadata": {},
   "outputs": [],
   "source": [
    "import os"
   ]
  },
  {
   "cell_type": "code",
   "execution_count": 6,
   "id": "c4fe59df",
   "metadata": {},
   "outputs": [
    {
     "data": {
      "text/plain": [
       "'c:\\\\Users\\\\anand\\\\Desktop\\\\reume_projet\\\\AutoPrice-AI\\\\research'"
      ]
     },
     "execution_count": 6,
     "metadata": {},
     "output_type": "execute_result"
    }
   ],
   "source": [
    "%pwd"
   ]
  },
  {
   "cell_type": "code",
   "execution_count": 7,
   "id": "06b8a176",
   "metadata": {},
   "outputs": [],
   "source": [
    "os.chdir(\"../\")"
   ]
  },
  {
   "cell_type": "code",
   "execution_count": 8,
   "id": "4add15d3",
   "metadata": {},
   "outputs": [
    {
     "data": {
      "text/plain": [
       "'c:\\\\Users\\\\anand\\\\Desktop\\\\reume_projet\\\\AutoPrice-AI'"
      ]
     },
     "execution_count": 8,
     "metadata": {},
     "output_type": "execute_result"
    }
   ],
   "source": [
    "%pwd"
   ]
  },
  {
   "cell_type": "code",
   "execution_count": null,
   "id": "dcaee777",
   "metadata": {},
   "outputs": [],
   "source": []
  },
  {
   "cell_type": "code",
   "execution_count": null,
   "id": "11fa7cc4",
   "metadata": {},
   "outputs": [],
   "source": [
    "from dataclasses import dataclass\n",
    "from pathlib import Path\n",
    "\n",
    "\n",
    "@dataclass(frozen=True)\n",
    "class ModelTrainerConfig:\n",
    "    root_dir: Path\n",
    "    train_data_path: Path\n",
    "    test_data_path: Path\n",
    "    model_name: str\n",
    "    target_column: str\n",
    "    params: dict"
   ]
  },
  {
   "cell_type": "code",
   "execution_count": 10,
   "id": "47723939",
   "metadata": {},
   "outputs": [],
   "source": [
    "from mlProject.constants import *\n",
    "from mlProject.utils.common import read_yaml, create_directories"
   ]
  },
  {
   "cell_type": "code",
   "execution_count": null,
   "id": "ef06d701",
   "metadata": {},
   "outputs": [],
   "source": [
    "class ConfigurationManager:\n",
    "    def __init__(\n",
    "        self,\n",
    "        config_filepath: Path = Path(\"config/config.yaml\"),\n",
    "        params_filepath: Path = Path(\"params.yaml\"),\n",
    "        schema_filepath: Path = Path(\"schema.yaml\")\n",
    "    ):\n",
    "        self.config = read_yaml(config_filepath)\n",
    "        self.params = read_yaml(params_filepath)\n",
    "        self.schema = read_yaml(schema_filepath)\n",
    "        create_directories([self.config['artifacts_root']])\n",
    "\n",
    "    def get_model_trainer_config(self) -> ModelTrainerConfig:\n",
    "        config = self.config['model_trainer']\n",
    "        schema = self.schema['TARGET_COLUMN']\n",
    "\n",
    "        create_directories([config['root_dir']])\n",
    "\n",
    "        model_trainer_config = ModelTrainerConfig(\n",
    "            root_dir=Path(config['root_dir']),\n",
    "            train_data_path=Path(config['train_data_path']),\n",
    "            test_data_path=Path(config['test_data_path']),\n",
    "            model_name=config['model_name'],\n",
    "            target_column=schema['name'],\n",
    "            params=self.params\n",
    "        )\n",
    "        return model_trainer_config\n",
    "\n"
   ]
  },
  {
   "cell_type": "code",
   "execution_count": null,
   "id": "b7fc4407",
   "metadata": {},
   "outputs": [],
   "source": [
    "from dataclasses import dataclass\n",
    "from pathlib import Path\n",
    "import os\n",
    "import joblib\n",
    "import pandas as pd\n",
    "import numpy as np\n",
    "from xgboost import XGBRegressor\n",
    "from sklearn.model_selection import GridSearchCV\n",
    "from sklearn.metrics import mean_squared_error, mean_absolute_error, r2_score\n",
    "from sklearn.pipeline import Pipeline\n",
    "from sklearn.preprocessing import StandardScaler\n",
    "from typing import Dict, Any, Tuple\n",
    "import json\n",
    "import yaml"
   ]
  },
  {
   "cell_type": "code",
   "execution_count": null,
   "id": "fcf547c6",
   "metadata": {},
   "outputs": [],
   "source": [
    "class ModelTrainer:\n",
    "    def __init__(self, config: ModelTrainerConfig):\n",
    "        self.config = config\n",
    "        self.model = self._initialize_model()\n",
    "        self.feature_importances = None\n",
    "\n",
    "    def _initialize_model(self) -> Pipeline:\n",
    "        \"\"\"Initialize XGBoost model with preprocessing pipeline\"\"\"\n",
    "        return Pipeline([\n",
    "            ('scaler', StandardScaler()),\n",
    "            ('model', XGBRegressor(\n",
    "                random_state=self.config.params['random_state'],\n",
    "                n_jobs=-1,\n",
    "                enable_categorical=False\n",
    "            ))\n",
    "        ])\n",
    "\n",
    "    def _load_data(self) -> Tuple[pd.DataFrame, pd.DataFrame, pd.Series, pd.Series]:\n",
    "        \"\"\"Load and validate training data\"\"\"\n",
    "        train_data = pd.read_csv(self.config.train_data_path)\n",
    "        test_data = pd.read_csv(self.config.test_data_path)\n",
    "\n",
    "        if self.config.target_column not in train_data.columns:\n",
    "            raise ValueError(f\"Target column '{self.config.target_column}' not found\")\n",
    "\n",
    "        X_train = train_data.drop([self.config.target_column], axis=1)\n",
    "        X_test = test_data.drop([self.config.target_column], axis=1)\n",
    "        y_train = train_data[self.config.target_column]\n",
    "        y_test = test_data[self.config.target_column]\n",
    "\n",
    "        print(f\"Data shapes - Train: {X_train.shape}, Test: {X_test.shape}\")\n",
    "        return X_train, X_test, y_train, y_test\n",
    "\n",
    "    def _evaluate_model(self, model, X_test: pd.DataFrame, y_test: pd.Series) -> Dict[str, float]:\n",
    "        \"\"\"Calculate evaluation metrics\"\"\"\n",
    "        preds = model.predict(X_test)\n",
    "        return {\n",
    "            'rmse': np.sqrt(mean_squared_error(y_test, preds)),\n",
    "            'mae': mean_absolute_error(y_test, preds),\n",
    "            'r2': r2_score(y_test, preds)\n",
    "        }\n",
    "\n",
    "    def _save_artifacts(self, model, metrics: Dict[str, float]) -> str:\n",
    "        \"\"\"Save model and artifacts\"\"\"\n",
    "        model_path = os.path.join(self.config.root_dir, self.config.model_name)\n",
    "        joblib.dump(model, model_path)\n",
    "        \n",
    "        # Save metrics\n",
    "        metrics_path = os.path.join(self.config.root_dir, \"metrics.json\")\n",
    "        with open(metrics_path, 'w') as f:\n",
    "            json.dump(metrics, f)\n",
    "            \n",
    "        # Save feature importances\n",
    "        importances = pd.DataFrame({\n",
    "            'feature': X_train.columns,\n",
    "            'importance': model.named_steps['model'].feature_importances_\n",
    "        }).sort_values('importance', ascending=False)\n",
    "        \n",
    "        importance_path = os.path.join(self.config.root_dir, \"feature_importances.csv\")\n",
    "        importances.to_csv(importance_path, index=False)\n",
    "        self.feature_importances = importances\n",
    "        \n",
    "        return model_path\n",
    "\n",
    "    def train(self) -> Dict[str, Any]:\n",
    "        \"\"\"XGBoost training pipeline\"\"\"\n",
    "        try:\n",
    "            X_train, X_test, y_train, y_test = self._load_data()\n",
    "\n",
    "            print(\"Starting XGBoost training\")\n",
    "            \n",
    "            model = self.model\n",
    "            model_params = self.config.params.get('xgboost', {})\n",
    "\n",
    "            if model_params:\n",
    "                print(\"Performing hyperparameter tuning with GridSearchCV\")\n",
    "                grid = GridSearchCV(\n",
    "                    estimator=model,\n",
    "                    param_grid=model_params,\n",
    "                    cv=self.config.params['cv']['folds'],\n",
    "                    scoring=self.config.params['scoring_metric'],\n",
    "                    n_jobs=-1,\n",
    "                    verbose=1\n",
    "                )\n",
    "                grid.fit(X_train, y_train)\n",
    "                model = grid.best_estimator_\n",
    "                print(f\"Best parameters: {grid.best_params_}\")\n",
    "\n",
    "            metrics = self._evaluate_model(model, X_test, y_test)\n",
    "            \n",
    "            print(\"\\nXGBoost performance:\")\n",
    "            for metric, value in metrics.items():\n",
    "                print(f\"{metric.upper()}: {value:.4f}\")\n",
    "\n",
    "            model_path = self._save_artifacts(model, metrics)\n",
    "            print(f\"\\nModel saved to {model_path}\")\n",
    "            \n",
    "            return {\n",
    "                'metrics': metrics,\n",
    "                'model_path': model_path,\n",
    "                'feature_importances': self.feature_importances\n",
    "            }\n",
    "\n",
    "        except Exception as e:\n",
    "            print(f\"XGBoost training failed: {str(e)}\")\n",
    "            raise\n"
   ]
  },
  {
   "cell_type": "code",
   "execution_count": 22,
   "id": "805c0a79",
   "metadata": {},
   "outputs": [
    {
     "name": "stdout",
     "output_type": "stream",
     "text": [
      "[2025-06-15 05:56:11,379: INFO: common: yaml file: config\\config.yaml loaded successfully]\n",
      "[2025-06-15 05:56:11,381: INFO: common: yaml file: params.yaml loaded successfully]\n",
      "[2025-06-15 05:56:11,383: INFO: common: yaml file: schema.yaml loaded successfully]\n",
      "[2025-06-15 05:56:11,384: INFO: common: created directory at: artifacts]\n",
      "[2025-06-15 05:56:11,386: INFO: common: created directory at: artifacts/model_trainer]\n"
     ]
    },
    {
     "ename": "AttributeError",
     "evalue": "'ModelTrainerConfig' object has no attribute 'params'",
     "output_type": "error",
     "traceback": [
      "\u001b[31m---------------------------------------------------------------------------\u001b[39m",
      "\u001b[31mAttributeError\u001b[39m                            Traceback (most recent call last)",
      "\u001b[36mCell\u001b[39m\u001b[36m \u001b[39m\u001b[32mIn[22]\u001b[39m\u001b[32m, line 7\u001b[39m\n\u001b[32m      5\u001b[39m     model_trainer_config.train()\n\u001b[32m      6\u001b[39m \u001b[38;5;28;01mexcept\u001b[39;00m \u001b[38;5;167;01mException\u001b[39;00m \u001b[38;5;28;01mas\u001b[39;00m e:\n\u001b[32m----> \u001b[39m\u001b[32m7\u001b[39m     \u001b[38;5;28;01mraise\u001b[39;00m e\n",
      "\u001b[36mCell\u001b[39m\u001b[36m \u001b[39m\u001b[32mIn[22]\u001b[39m\u001b[32m, line 4\u001b[39m\n\u001b[32m      2\u001b[39m     config = ConfigurationManager()\n\u001b[32m      3\u001b[39m     model_trainer_config = config.get_model_trainer_config()\n\u001b[32m----> \u001b[39m\u001b[32m4\u001b[39m     model_trainer_config = \u001b[43mModelTrainer\u001b[49m\u001b[43m(\u001b[49m\u001b[43mconfig\u001b[49m\u001b[43m=\u001b[49m\u001b[43mmodel_trainer_config\u001b[49m\u001b[43m)\u001b[49m\n\u001b[32m      5\u001b[39m     model_trainer_config.train()\n\u001b[32m      6\u001b[39m \u001b[38;5;28;01mexcept\u001b[39;00m \u001b[38;5;167;01mException\u001b[39;00m \u001b[38;5;28;01mas\u001b[39;00m e:\n",
      "\u001b[36mCell\u001b[39m\u001b[36m \u001b[39m\u001b[32mIn[21]\u001b[39m\u001b[32m, line 5\u001b[39m, in \u001b[36mModelTrainer.__init__\u001b[39m\u001b[34m(self, config)\u001b[39m\n\u001b[32m      2\u001b[39m \u001b[38;5;28;01mdef\u001b[39;00m\u001b[38;5;250m \u001b[39m\u001b[34m__init__\u001b[39m(\u001b[38;5;28mself\u001b[39m, config: ModelTrainerConfig):\n\u001b[32m      3\u001b[39m     \u001b[38;5;28mself\u001b[39m.config = config\n\u001b[32m      4\u001b[39m     \u001b[38;5;28mself\u001b[39m.models = {\n\u001b[32m----> \u001b[39m\u001b[32m5\u001b[39m         \u001b[33m'\u001b[39m\u001b[33mrandomforest\u001b[39m\u001b[33m'\u001b[39m: RandomForestRegressor(random_state=\u001b[38;5;28;43mself\u001b[39;49m\u001b[43m.\u001b[49m\u001b[43mconfig\u001b[49m\u001b[43m.\u001b[49m\u001b[43mparams\u001b[49m[\u001b[33m'\u001b[39m\u001b[33mrandom_state\u001b[39m\u001b[33m'\u001b[39m]),\n\u001b[32m      6\u001b[39m         \u001b[33m'\u001b[39m\u001b[33mgradientboost\u001b[39m\u001b[33m'\u001b[39m: GradientBoostingRegressor(random_state=\u001b[38;5;28mself\u001b[39m.config.params[\u001b[33m'\u001b[39m\u001b[33mrandom_state\u001b[39m\u001b[33m'\u001b[39m])\n\u001b[32m      7\u001b[39m     }\n\u001b[32m      8\u001b[39m     \u001b[38;5;28mself\u001b[39m.best_model = \u001b[38;5;28;01mNone\u001b[39;00m\n",
      "\u001b[31mAttributeError\u001b[39m: 'ModelTrainerConfig' object has no attribute 'params'"
     ]
    }
   ],
   "source": [
    "try:\n",
    "    config = ConfigurationManager()\n",
    "    model_trainer_config = config.get_model_trainer_config()\n",
    "    model_trainer_config = ModelTrainer(config=model_trainer_config)\n",
    "    model_trainer_config.train()\n",
    "except Exception as e:\n",
    "    raise e"
   ]
  },
  {
   "cell_type": "code",
   "execution_count": null,
   "id": "d20cfff2",
   "metadata": {},
   "outputs": [],
   "source": []
  }
 ],
 "metadata": {
  "kernelspec": {
   "display_name": "mlproj",
   "language": "python",
   "name": "python3"
  },
  "language_info": {
   "codemirror_mode": {
    "name": "ipython",
    "version": 3
   },
   "file_extension": ".py",
   "mimetype": "text/x-python",
   "name": "python",
   "nbconvert_exporter": "python",
   "pygments_lexer": "ipython3",
   "version": "3.11.5"
  }
 },
 "nbformat": 4,
 "nbformat_minor": 5
}
